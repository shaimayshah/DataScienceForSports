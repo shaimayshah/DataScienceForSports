{
 "cells": [
  {
   "cell_type": "code",
   "execution_count": 130,
   "metadata": {},
   "outputs": [],
   "source": [
    "import matplotlib.pyplot as plt \n",
    "import numpy as np\n",
    "import pandas as pd \n",
    "from matplotlib.patches import Arc, Circle\n",
    "import networkx as nx\n",
    "import community\n",
    "from matplotlib.patches import Circle, Rectangle, Arc\n",
    "%matplotlib inline\n",
    "import matplotlib.image as mpimg\n",
    "import matplotlib.gridspec as gridspec\n",
    "plt.style.use('seaborn-white')\n",
    "from matplotlib.font_manager import FontProperties\n",
    "from matplotlib import rcParams"
   ]
  },
  {
   "cell_type": "code",
   "execution_count": 3,
   "metadata": {},
   "outputs": [],
   "source": [
    "gsw_pass_matrix = [[0,4.0,19.5,7.8,9.5], [4.6,0,6.2,2.2,2.8], [36.0,3.7,0,10.8,12.8], [3.6,2.6,7.8,0,6.6],\n",
    "                  [13.0,2.2,12.8,6.3,0]]\n",
    "gsw_pass = np.asarray(gsw_pass_matrix)\n",
    "toronto_pass_matrix = [[0, 15.3, 14.5, 17.2, 5.7], [17.7, 0, 6.7, 8.8, 3.5], [18.7, 8.2, 0, 10.2, 2.2],[12.2, 8.8, 8, 0, 3.8], [8.2, 3.3, 2.7, 3.3, 0]]\n",
    "toronto_pass = np.asarray(toronto_pass_matrix)\n",
    "gsw_names = ['Curry', 'Looney', 'Green', 'Thompson', 'Iguodala']\n",
    "toronto_names = ['Lowry', 'Siakam', 'Gasol', 'Leonard', 'Green']"
   ]
  },
  {
   "cell_type": "code",
   "execution_count": 160,
   "metadata": {},
   "outputs": [],
   "source": [
    "mat1 = []\n",
    "mat2 = []\n",
    "for i in range(len(toronto_names)):\n",
    "    for j in range(5):\n",
    "        if toronto_pass[i][j] == 0:\n",
    "            mat1.append([toronto_names[i], toronto_names[j], toronto_pass[i][j]])\n",
    "        else:\n",
    "            mat1.append([toronto_names[i], toronto_names[j], 1/toronto_pass[i][j]])\n",
    "\n",
    "#For pagerank\n",
    "for i in range(len(toronto_names)):\n",
    "    for j in range(5):\n",
    "        if toronto_pass[i][j] == 0:\n",
    "            mat2.append([toronto_names[i], toronto_names[j], toronto_pass[i][j]])\n",
    "        else:\n",
    "            mat2.append([toronto_names[i], toronto_names[j], toronto_pass[i][j]])"
   ]
  },
  {
   "cell_type": "code",
   "execution_count": 161,
   "metadata": {},
   "outputs": [],
   "source": [
    "H = nx.DiGraph()\n",
    "H.add_nodes_from(toronto_names)\n",
    "H.add_weighted_edges_from(mat1)\n",
    "\n",
    "#For pagerank\n",
    "I = nx.DiGraph()\n",
    "I.add_nodes_from(toronto_names)\n",
    "I.add_weighted_edges_from(mat2)"
   ]
  },
  {
   "cell_type": "code",
   "execution_count": 162,
   "metadata": {},
   "outputs": [
    {
     "data": {
      "text/plain": [
       "{'Lowry': 1.0,\n",
       " 'Siakam': 0.3333333333333333,\n",
       " 'Gasol': 0.3333333333333333,\n",
       " 'Leonard': 0.3333333333333333,\n",
       " 'Green': 0.3333333333333333}"
      ]
     },
     "execution_count": 162,
     "metadata": {},
     "output_type": "execute_result"
    }
   ],
   "source": [
    "# Betweeness Centrality \n",
    "b_g = nx.betweenness_centrality(H, normalized=True, weight = 'weight')\n",
    "b_g"
   ]
  },
  {
   "cell_type": "code",
   "execution_count": 163,
   "metadata": {},
   "outputs": [],
   "source": [
    "# Eigenvector Centrality\n",
    "e_g = nx.eigenvector_centrality(H, max_iter=100, tol=1e-06, nstart=None, weight='weight')"
   ]
  },
  {
   "cell_type": "code",
   "execution_count": 164,
   "metadata": {},
   "outputs": [],
   "source": [
    "# PageRank Centrality\n",
    "p_g = nx.pagerank(I, weight = 'weight')"
   ]
  },
  {
   "cell_type": "code",
   "execution_count": 165,
   "metadata": {},
   "outputs": [],
   "source": [
    "# Closeness Centrality\n",
    "c_g = nx.closeness_centrality(H, distance='weight')"
   ]
  },
  {
   "cell_type": "code",
   "execution_count": 175,
   "metadata": {},
   "outputs": [],
   "source": [
    "mat = []\n",
    "mat0 = []\n",
    "for i in range(len(gsw_names)):\n",
    "    for j in range(5):\n",
    "        if gsw_pass[i][j] == 0:\n",
    "            mat.append([gsw_names[i], gsw_names[j], gsw_pass[i][j]])\n",
    "        else:\n",
    "            mat.append([gsw_names[i], gsw_names[j], 1/gsw_pass[i][j]])\n",
    "for i in range(len(gsw_names)):\n",
    "    for j in range(5):\n",
    "        if gsw_pass[i][j] == 0:\n",
    "            mat0.append([gsw_names[i], gsw_names[j], gsw_pass[i][j]])\n",
    "        else:\n",
    "            mat0.append([gsw_names[i], gsw_names[j], gsw_pass[i][j]])"
   ]
  },
  {
   "cell_type": "code",
   "execution_count": 176,
   "metadata": {},
   "outputs": [],
   "source": [
    "G = nx.DiGraph()\n",
    "G.add_nodes_from(gsw_names)\n",
    "G.add_weighted_edges_from(mat)\n",
    "\n",
    "F = nx.DiGraph()\n",
    "F.add_nodes_from(gsw_names)\n",
    "F.add_weighted_edges_from(mat0)"
   ]
  },
  {
   "cell_type": "code",
   "execution_count": 169,
   "metadata": {},
   "outputs": [],
   "source": [
    "b_t = nx.betweenness_centrality(G, normalized=True, weight = 'weight')"
   ]
  },
  {
   "cell_type": "code",
   "execution_count": 170,
   "metadata": {},
   "outputs": [],
   "source": [
    "#e_t = nx.eigenvector_centrality(G, max_iter=100, tol=1e-06, nstart=None, weight='weight')"
   ]
  },
  {
   "cell_type": "code",
   "execution_count": 177,
   "metadata": {},
   "outputs": [],
   "source": [
    "p_t = nx.pagerank(F, weight = 'weight')"
   ]
  },
  {
   "cell_type": "code",
   "execution_count": 178,
   "metadata": {},
   "outputs": [],
   "source": [
    "c_t = nx.closeness_centrality(G, distance='weight')"
   ]
  },
  {
   "cell_type": "code",
   "execution_count": 123,
   "metadata": {},
   "outputs": [
    {
     "data": {
      "text/plain": [
       "(0, 1)"
      ]
     },
     "execution_count": 123,
     "metadata": {},
     "output_type": "execute_result"
    }
   ],
   "source": [
    "#fig, ax = plt.subplots(2, 2, sharey = True)\n",
    "fig.suptitle('Golden State Warriors')\n",
    "fig.subplots_adjust(wspace=0.4)\n",
    "ax[0,0].barh(toronto_names, b_t.values(), color = '#1D428A', align = 'center')\n",
    "ax[0,0].set(title = \"Betweenness Centrality\")\n",
    "ax[0,1].barh(toronto_names, e_t.values(), color = '#FFC72C', align = 'center')\n",
    "ax[1,0].barh(toronto_names, p_t.values(), color = '#26282A', align = 'center')\n",
    "ax[1,0].set_xlim(0, 1)\n",
    "ax[0,0].set_xlim(0, 1)\n",
    "ax[0,1].set_xlim(0, 1)"
   ]
  },
  {
   "cell_type": "code",
   "execution_count": 179,
   "metadata": {},
   "outputs": [
    {
     "data": {
      "text/plain": [
       "<BarContainer object of 5 artists>"
      ]
     },
     "execution_count": 179,
     "metadata": {},
     "output_type": "execute_result"
    },
    {
     "data": {
      "image/png": "[encoded data removed]",
      "text/plain": [
       "<Figure size 432x288 with 3 Axes>"
      ]
     },
     "metadata": {},
     "output_type": "display_data"
    }
   ],
   "source": [
    "fig1 = plt.figure()\n",
    "gs = gridspec.GridSpec(2, 4)\n",
    "fig1.suptitle('Toronto Raptors', size = 15)\n",
    "gs.update(wspace=1, hspace=0.4)\n",
    "ax1 = plt.subplot(gs[0, :2], )\n",
    "ax1.barh(toronto_names, b_t.values(), color = '#CE1141', align = 'center')\n",
    "ax1.set(title = \"Betweenness Centrality\")\n",
    "ax1.set_xlim(0,1)\n",
    "\n",
    "ax2 = plt.subplot(gs[0, 2:])\n",
    "ax2.barh(toronto_names, p_t.values(), color = '#000000', align = 'center')\n",
    "ax2.set(title = \"PageRank Centrality\")\n",
    "ax2.set_xlim(0,1)\n",
    "\n",
    "ax3 = plt.subplot(gs[1, :])\n",
    "ax3.set(title = \"Closeness Centrality\")\n",
    "ax3.barh(toronto_names, c_t.values(), color = '#B4975A', align = 'center')"
   ]
  },
  {
   "cell_type": "code",
   "execution_count": 180,
   "metadata": {},
   "outputs": [
    {
     "data": {
      "text/plain": [
       "<BarContainer object of 5 artists>"
      ]
     },
     "execution_count": 180,
     "metadata": {},
     "output_type": "execute_result"
    },
    {
     "data": {
      "image/png": "[encoded data removed]",
      "text/plain": [
       "<Figure size 432x288 with 3 Axes>"
      ]
     },
     "metadata": {},
     "output_type": "display_data"
    }
   ],
   "source": [
    "gs = gridspec.GridSpec(2, 4)\n",
    "gs.update(wspace=1.5, hspace=0.4)\n",
    "ax1 = plt.subplot(gs[0, :2], )\n",
    "ax1.barh(gsw_names, b_g.values(), color = '#1D428A', align = 'center')\n",
    "ax1.set(title = \"Betweenness Centrality\")\n",
    "ax1.set_xlim(0,1)\n",
    "\n",
    "ax2 = plt.subplot(gs[0, 2:])\n",
    "ax2.barh(gsw_names, p_g.values(), color = '#FFC72C', align = 'center')\n",
    "ax2.set(title = \"PageRank Centrality\")\n",
    "ax2.set_xlim(0,1)\n",
    "\n",
    "ax3 = plt.subplot(gs[1, :])\n",
    "ax3.set(title = \"Closeness Centrality\")\n",
    "ax3.barh(gsw_names, c_g.values(), color = '#26282A', align = 'center')"
   ]
  },
  {
   "cell_type": "code",
   "execution_count": null,
   "metadata": {},
   "outputs": [],
   "source": []
  },
  {
   "cell_type": "code",
   "execution_count": null,
   "metadata": {},
   "outputs": [],
   "source": []
  }
 ],
 "metadata": {
  "kernelspec": {
   "display_name": "Python 3",
   "language": "python",
   "name": "python3"
  },
  "language_info": {
   "codemirror_mode": {
    "name": "ipython",
    "version": 3
   },
   "file_extension": ".py",
   "mimetype": "text/x-python",
   "name": "python",
   "nbconvert_exporter": "python",
   "pygments_lexer": "ipython3",
   "version": "3.7.3"
  }
 },
 "nbformat": 4,
 "nbformat_minor": 2
}
